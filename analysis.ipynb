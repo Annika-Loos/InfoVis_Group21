{
 "cells": [
  {
   "cell_type": "markdown",
   "metadata": {},
   "source": [
    "# 188.308 Informationsvisualisierung (UE 1,0) 2024W\n",
    "## Assignement 1"
   ]
  },
  {
   "cell_type": "code",
   "execution_count": 1,
   "metadata": {},
   "outputs": [],
   "source": [
    "import os\n",
    "import pandas as pd\n",
    "import numpy as np\n",
    "import matplotlib.pyplot as plt\n",
    "import seaborn as sns"
   ]
  },
  {
   "cell_type": "code",
   "execution_count": 2,
   "metadata": {},
   "outputs": [
    {
     "data": {
      "text/html": [
       "<div>\n",
       "<style scoped>\n",
       "    .dataframe tbody tr th:only-of-type {\n",
       "        vertical-align: middle;\n",
       "    }\n",
       "\n",
       "    .dataframe tbody tr th {\n",
       "        vertical-align: top;\n",
       "    }\n",
       "\n",
       "    .dataframe thead th {\n",
       "        text-align: right;\n",
       "    }\n",
       "</style>\n",
       "<table border=\"1\" class=\"dataframe\">\n",
       "  <thead>\n",
       "    <tr style=\"text-align: right;\">\n",
       "      <th></th>\n",
       "      <th>a.id</th>\n",
       "      <th>a.firstname</th>\n",
       "      <th>a.lastname</th>\n",
       "      <th>a.gender</th>\n",
       "      <th>a.birthdate</th>\n",
       "      <th>a.deathdate</th>\n",
       "      <th>a.birthplace</th>\n",
       "      <th>a.deathplace</th>\n",
       "      <th>a.nationality</th>\n",
       "      <th>e.id</th>\n",
       "      <th>e.title</th>\n",
       "      <th>e.venue</th>\n",
       "      <th>e.startdate</th>\n",
       "      <th>e.type</th>\n",
       "      <th>e.paintings</th>\n",
       "      <th>e.country</th>\n",
       "      <th>e.city</th>\n",
       "      <th>e.latitude</th>\n",
       "      <th>e.longitude</th>\n",
       "    </tr>\n",
       "  </thead>\n",
       "  <tbody>\n",
       "    <tr>\n",
       "      <th>0</th>\n",
       "      <td>1</td>\n",
       "      <td>William Bernard</td>\n",
       "      <td>Adeney</td>\n",
       "      <td>M</td>\n",
       "      <td>1878-01-01</td>\n",
       "      <td>1966-01-01</td>\n",
       "      <td>London</td>\n",
       "      <td>London</td>\n",
       "      <td>GB</td>\n",
       "      <td>489</td>\n",
       "      <td>Second Post-Impressionist Exhibition. British,...</td>\n",
       "      <td>Grafton Galleries</td>\n",
       "      <td>1912</td>\n",
       "      <td>group</td>\n",
       "      <td>4</td>\n",
       "      <td>GB</td>\n",
       "      <td>London</td>\n",
       "      <td>51.514248</td>\n",
       "      <td>-0.093145</td>\n",
       "    </tr>\n",
       "    <tr>\n",
       "      <th>1</th>\n",
       "      <td>1</td>\n",
       "      <td>William Bernard</td>\n",
       "      <td>Adeney</td>\n",
       "      <td>M</td>\n",
       "      <td>1878-01-01</td>\n",
       "      <td>1966-01-01</td>\n",
       "      <td>London</td>\n",
       "      <td>London</td>\n",
       "      <td>GB</td>\n",
       "      <td>618</td>\n",
       "      <td>Exhibition of the Camden Town Group and Others</td>\n",
       "      <td>Public Art Galleries</td>\n",
       "      <td>1913</td>\n",
       "      <td>group</td>\n",
       "      <td>6</td>\n",
       "      <td>GB</td>\n",
       "      <td>Brighton</td>\n",
       "      <td>50.833333</td>\n",
       "      <td>-0.15</td>\n",
       "    </tr>\n",
       "    <tr>\n",
       "      <th>2</th>\n",
       "      <td>1</td>\n",
       "      <td>William Bernard</td>\n",
       "      <td>Adeney</td>\n",
       "      <td>M</td>\n",
       "      <td>1878-01-01</td>\n",
       "      <td>1966-01-01</td>\n",
       "      <td>London</td>\n",
       "      <td>London</td>\n",
       "      <td>GB</td>\n",
       "      <td>720</td>\n",
       "      <td>The Second Exhibition of Works by Members of t...</td>\n",
       "      <td>Goupil Gallery</td>\n",
       "      <td>1915</td>\n",
       "      <td>group</td>\n",
       "      <td>4</td>\n",
       "      <td>GB</td>\n",
       "      <td>London</td>\n",
       "      <td>51.514248</td>\n",
       "      <td>-0.093145</td>\n",
       "    </tr>\n",
       "    <tr>\n",
       "      <th>3</th>\n",
       "      <td>1</td>\n",
       "      <td>William Bernard</td>\n",
       "      <td>Adeney</td>\n",
       "      <td>M</td>\n",
       "      <td>1878-01-01</td>\n",
       "      <td>1966-01-01</td>\n",
       "      <td>London</td>\n",
       "      <td>London</td>\n",
       "      <td>GB</td>\n",
       "      <td>729</td>\n",
       "      <td>Third Exhibition of Works by Members of the Lo...</td>\n",
       "      <td>Goupil Gallery</td>\n",
       "      <td>1915</td>\n",
       "      <td>group</td>\n",
       "      <td>5</td>\n",
       "      <td>GB</td>\n",
       "      <td>London</td>\n",
       "      <td>51.514248</td>\n",
       "      <td>-0.093145</td>\n",
       "    </tr>\n",
       "    <tr>\n",
       "      <th>4</th>\n",
       "      <td>1</td>\n",
       "      <td>William Bernard</td>\n",
       "      <td>Adeney</td>\n",
       "      <td>M</td>\n",
       "      <td>1878-01-01</td>\n",
       "      <td>1966-01-01</td>\n",
       "      <td>London</td>\n",
       "      <td>London</td>\n",
       "      <td>GB</td>\n",
       "      <td>650</td>\n",
       "      <td>The First Exhibition of Works by Members of Th...</td>\n",
       "      <td>Goupil Gallery</td>\n",
       "      <td>1914</td>\n",
       "      <td>group</td>\n",
       "      <td>5</td>\n",
       "      <td>GB</td>\n",
       "      <td>London</td>\n",
       "      <td>51.514248</td>\n",
       "      <td>-0.093145</td>\n",
       "    </tr>\n",
       "  </tbody>\n",
       "</table>\n",
       "</div>"
      ],
      "text/plain": [
       "   a.id      a.firstname a.lastname a.gender a.birthdate a.deathdate  \\\n",
       "0     1  William Bernard     Adeney        M  1878-01-01  1966-01-01   \n",
       "1     1  William Bernard     Adeney        M  1878-01-01  1966-01-01   \n",
       "2     1  William Bernard     Adeney        M  1878-01-01  1966-01-01   \n",
       "3     1  William Bernard     Adeney        M  1878-01-01  1966-01-01   \n",
       "4     1  William Bernard     Adeney        M  1878-01-01  1966-01-01   \n",
       "\n",
       "  a.birthplace a.deathplace a.nationality  e.id  \\\n",
       "0       London       London            GB   489   \n",
       "1       London       London            GB   618   \n",
       "2       London       London            GB   720   \n",
       "3       London       London            GB   729   \n",
       "4       London       London            GB   650   \n",
       "\n",
       "                                             e.title               e.venue  \\\n",
       "0  Second Post-Impressionist Exhibition. British,...     Grafton Galleries   \n",
       "1     Exhibition of the Camden Town Group and Others  Public Art Galleries   \n",
       "2  The Second Exhibition of Works by Members of t...        Goupil Gallery   \n",
       "3  Third Exhibition of Works by Members of the Lo...        Goupil Gallery   \n",
       "4  The First Exhibition of Works by Members of Th...        Goupil Gallery   \n",
       "\n",
       "   e.startdate e.type  e.paintings e.country    e.city e.latitude e.longitude  \n",
       "0         1912  group            4        GB    London  51.514248   -0.093145  \n",
       "1         1913  group            6        GB  Brighton  50.833333       -0.15  \n",
       "2         1915  group            4        GB    London  51.514248   -0.093145  \n",
       "3         1915  group            5        GB    London  51.514248   -0.093145  \n",
       "4         1914  group            5        GB    London  51.514248   -0.093145  "
      ]
     },
     "execution_count": 2,
     "metadata": {},
     "output_type": "execute_result"
    }
   ],
   "source": [
    "data = pd.read_csv(\"artisdata.csv\", delimiter=\";\")\n",
    "data.head()"
   ]
  },
  {
   "cell_type": "code",
   "execution_count": 3,
   "metadata": {},
   "outputs": [
    {
     "data": {
      "text/html": [
       "<div>\n",
       "<style scoped>\n",
       "    .dataframe tbody tr th:only-of-type {\n",
       "        vertical-align: middle;\n",
       "    }\n",
       "\n",
       "    .dataframe tbody tr th {\n",
       "        vertical-align: top;\n",
       "    }\n",
       "\n",
       "    .dataframe thead th {\n",
       "        text-align: right;\n",
       "    }\n",
       "</style>\n",
       "<table border=\"1\" class=\"dataframe\">\n",
       "  <thead>\n",
       "    <tr style=\"text-align: right;\">\n",
       "      <th></th>\n",
       "      <th>a.id</th>\n",
       "      <th>a.firstname</th>\n",
       "      <th>a.lastname</th>\n",
       "      <th>a.gender</th>\n",
       "      <th>a.birthdate</th>\n",
       "      <th>a.deathdate</th>\n",
       "      <th>a.birthplace</th>\n",
       "      <th>a.deathplace</th>\n",
       "      <th>a.nationality</th>\n",
       "      <th>e.id</th>\n",
       "      <th>e.title</th>\n",
       "      <th>e.venue</th>\n",
       "      <th>e.startdate</th>\n",
       "      <th>e.type</th>\n",
       "      <th>e.paintings</th>\n",
       "      <th>e.country</th>\n",
       "      <th>e.city</th>\n",
       "      <th>e.latitude</th>\n",
       "      <th>e.longitude</th>\n",
       "    </tr>\n",
       "  </thead>\n",
       "  <tbody>\n",
       "    <tr>\n",
       "      <th>0</th>\n",
       "      <td>1</td>\n",
       "      <td>William Bernard</td>\n",
       "      <td>Adeney</td>\n",
       "      <td>M</td>\n",
       "      <td>1878</td>\n",
       "      <td>1966</td>\n",
       "      <td>London</td>\n",
       "      <td>London</td>\n",
       "      <td>GB</td>\n",
       "      <td>489</td>\n",
       "      <td>Second Post-Impressionist Exhibition. British,...</td>\n",
       "      <td>Grafton Galleries</td>\n",
       "      <td>1912</td>\n",
       "      <td>group</td>\n",
       "      <td>4</td>\n",
       "      <td>GB</td>\n",
       "      <td>London</td>\n",
       "      <td>51.514248</td>\n",
       "      <td>-0.093145</td>\n",
       "    </tr>\n",
       "    <tr>\n",
       "      <th>1</th>\n",
       "      <td>1</td>\n",
       "      <td>William Bernard</td>\n",
       "      <td>Adeney</td>\n",
       "      <td>M</td>\n",
       "      <td>1878</td>\n",
       "      <td>1966</td>\n",
       "      <td>London</td>\n",
       "      <td>London</td>\n",
       "      <td>GB</td>\n",
       "      <td>618</td>\n",
       "      <td>Exhibition of the Camden Town Group and Others</td>\n",
       "      <td>Public Art Galleries</td>\n",
       "      <td>1913</td>\n",
       "      <td>group</td>\n",
       "      <td>6</td>\n",
       "      <td>GB</td>\n",
       "      <td>Brighton</td>\n",
       "      <td>50.833333</td>\n",
       "      <td>-0.15</td>\n",
       "    </tr>\n",
       "    <tr>\n",
       "      <th>2</th>\n",
       "      <td>1</td>\n",
       "      <td>William Bernard</td>\n",
       "      <td>Adeney</td>\n",
       "      <td>M</td>\n",
       "      <td>1878</td>\n",
       "      <td>1966</td>\n",
       "      <td>London</td>\n",
       "      <td>London</td>\n",
       "      <td>GB</td>\n",
       "      <td>720</td>\n",
       "      <td>The Second Exhibition of Works by Members of t...</td>\n",
       "      <td>Goupil Gallery</td>\n",
       "      <td>1915</td>\n",
       "      <td>group</td>\n",
       "      <td>4</td>\n",
       "      <td>GB</td>\n",
       "      <td>London</td>\n",
       "      <td>51.514248</td>\n",
       "      <td>-0.093145</td>\n",
       "    </tr>\n",
       "    <tr>\n",
       "      <th>3</th>\n",
       "      <td>1</td>\n",
       "      <td>William Bernard</td>\n",
       "      <td>Adeney</td>\n",
       "      <td>M</td>\n",
       "      <td>1878</td>\n",
       "      <td>1966</td>\n",
       "      <td>London</td>\n",
       "      <td>London</td>\n",
       "      <td>GB</td>\n",
       "      <td>729</td>\n",
       "      <td>Third Exhibition of Works by Members of the Lo...</td>\n",
       "      <td>Goupil Gallery</td>\n",
       "      <td>1915</td>\n",
       "      <td>group</td>\n",
       "      <td>5</td>\n",
       "      <td>GB</td>\n",
       "      <td>London</td>\n",
       "      <td>51.514248</td>\n",
       "      <td>-0.093145</td>\n",
       "    </tr>\n",
       "    <tr>\n",
       "      <th>4</th>\n",
       "      <td>1</td>\n",
       "      <td>William Bernard</td>\n",
       "      <td>Adeney</td>\n",
       "      <td>M</td>\n",
       "      <td>1878</td>\n",
       "      <td>1966</td>\n",
       "      <td>London</td>\n",
       "      <td>London</td>\n",
       "      <td>GB</td>\n",
       "      <td>650</td>\n",
       "      <td>The First Exhibition of Works by Members of Th...</td>\n",
       "      <td>Goupil Gallery</td>\n",
       "      <td>1914</td>\n",
       "      <td>group</td>\n",
       "      <td>5</td>\n",
       "      <td>GB</td>\n",
       "      <td>London</td>\n",
       "      <td>51.514248</td>\n",
       "      <td>-0.093145</td>\n",
       "    </tr>\n",
       "  </tbody>\n",
       "</table>\n",
       "</div>"
      ],
      "text/plain": [
       "   a.id      a.firstname a.lastname a.gender a.birthdate a.deathdate  \\\n",
       "0     1  William Bernard     Adeney        M        1878        1966   \n",
       "1     1  William Bernard     Adeney        M        1878        1966   \n",
       "2     1  William Bernard     Adeney        M        1878        1966   \n",
       "3     1  William Bernard     Adeney        M        1878        1966   \n",
       "4     1  William Bernard     Adeney        M        1878        1966   \n",
       "\n",
       "  a.birthplace a.deathplace a.nationality  e.id  \\\n",
       "0       London       London            GB   489   \n",
       "1       London       London            GB   618   \n",
       "2       London       London            GB   720   \n",
       "3       London       London            GB   729   \n",
       "4       London       London            GB   650   \n",
       "\n",
       "                                             e.title               e.venue  \\\n",
       "0  Second Post-Impressionist Exhibition. British,...     Grafton Galleries   \n",
       "1     Exhibition of the Camden Town Group and Others  Public Art Galleries   \n",
       "2  The Second Exhibition of Works by Members of t...        Goupil Gallery   \n",
       "3  Third Exhibition of Works by Members of the Lo...        Goupil Gallery   \n",
       "4  The First Exhibition of Works by Members of Th...        Goupil Gallery   \n",
       "\n",
       "   e.startdate e.type  e.paintings e.country    e.city e.latitude e.longitude  \n",
       "0         1912  group            4        GB    London  51.514248   -0.093145  \n",
       "1         1913  group            6        GB  Brighton  50.833333       -0.15  \n",
       "2         1915  group            4        GB    London  51.514248   -0.093145  \n",
       "3         1915  group            5        GB    London  51.514248   -0.093145  \n",
       "4         1914  group            5        GB    London  51.514248   -0.093145  "
      ]
     },
     "execution_count": 3,
     "metadata": {},
     "output_type": "execute_result"
    }
   ],
   "source": [
    "data['a.birthdate'] = data['a.birthdate'].astype(str).str[:4]\n",
    "data['a.deathdate'] = data['a.deathdate'].astype(str).str[:4]\n",
    "data.head()"
   ]
  },
  {
   "cell_type": "code",
   "execution_count": 4,
   "metadata": {},
   "outputs": [
    {
     "data": {
      "text/plain": [
       "a.id             0\n",
       "a.firstname      0\n",
       "a.lastname       0\n",
       "a.gender         0\n",
       "a.birthdate      0\n",
       "a.deathdate      0\n",
       "a.birthplace     0\n",
       "a.deathplace     0\n",
       "a.nationality    0\n",
       "e.id             0\n",
       "e.title          0\n",
       "e.venue          0\n",
       "e.startdate      0\n",
       "e.type           0\n",
       "e.paintings      0\n",
       "e.country        0\n",
       "e.city           0\n",
       "e.latitude       0\n",
       "e.longitude      0\n",
       "dtype: int64"
      ]
     },
     "execution_count": 4,
     "metadata": {},
     "output_type": "execute_result"
    }
   ],
   "source": [
    "missing_values = data.isna().sum()\n",
    "missing_values"
   ]
  },
  {
   "cell_type": "markdown",
   "metadata": {},
   "source": [
    "- Select a time interval instead of the full range\n",
    "- Aggregate by calendar interval, e.g., by year\n",
    "- Select a smaller region in space instead of the whole extent, e.g., exhibitions in certain countries\n",
    "- Aggregate by spatial hierarchy, e.g., cities, countries, or continents\n",
    "- Select a subset of the data, e.g., artists with certain nationalities, male/female artists, certain film types\n",
    "- Aggregate by such data subsets, e.g., exhibition locations over time for female/male artists\n",
    "\n",
    "What needs to be included:\n",
    " \n",
    "- the temporal component needs to be considered in any case\n",
    "- you can simplify and aggregate spatial dimension\n",
    "- you can look at single or groups of data cases (artists, exhibitions, films)"
   ]
  },
  {
   "cell_type": "code",
   "execution_count": 5,
   "metadata": {},
   "outputs": [
    {
     "data": {
      "text/plain": [
       "array(['GB', 'NL', 'DE', 'RU', 'UA', 'CH', 'HU', 'AT', 'US', 'LV', 'FR',\n",
       "       'JP', 'BE', 'CZ', 'IT', 'LT', 'ES', 'SE', 'PL', 'NO', '\\\\N'],\n",
       "      dtype=object)"
      ]
     },
     "execution_count": 5,
     "metadata": {},
     "output_type": "execute_result"
    }
   ],
   "source": [
    "unique_values = data['e.country'].unique()\n",
    "unique_values"
   ]
  },
  {
   "cell_type": "code",
   "execution_count": 6,
   "metadata": {},
   "outputs": [
    {
     "data": {
      "text/plain": [
       "e.country\n",
       "DE    20529\n",
       "GB     8697\n",
       "IT     7031\n",
       "NL     6691\n",
       "FR     6358\n",
       "AT     4771\n",
       "HU     4096\n",
       "BE     3615\n",
       "RU     2887\n",
       "US     2687\n",
       "CZ     2279\n",
       "UA      923\n",
       "CH      507\n",
       "SE      492\n",
       "LV      414\n",
       "PL       40\n",
       "JP       26\n",
       "LT       17\n",
       "ES        8\n",
       "\\N        6\n",
       "NO        4\n",
       "Name: count, dtype: int64"
      ]
     },
     "execution_count": 6,
     "metadata": {},
     "output_type": "execute_result"
    }
   ],
   "source": [
    "value_counts = data['e.country'].value_counts()\n",
    "value_counts"
   ]
  },
  {
   "cell_type": "code",
   "execution_count": 7,
   "metadata": {},
   "outputs": [
    {
     "data": {
      "text/plain": [
       "e.id\n",
       "992     3648\n",
       "174     1374\n",
       "672      994\n",
       "109      942\n",
       "1244     928\n",
       "        ... \n",
       "370        1\n",
       "527        1\n",
       "402        1\n",
       "185        1\n",
       "499        1\n",
       "Name: count, Length: 1069, dtype: int64"
      ]
     },
     "execution_count": 7,
     "metadata": {},
     "output_type": "execute_result"
    }
   ],
   "source": [
    "value_counts = data['e.id'].value_counts()\n",
    "value_counts"
   ]
  },
  {
   "cell_type": "code",
   "execution_count": 8,
   "metadata": {},
   "outputs": [
    {
     "data": {
      "text/plain": [
       "a.id\n",
       "317     114\n",
       "401     110\n",
       "416     109\n",
       "37      108\n",
       "58      104\n",
       "       ... \n",
       "9504      1\n",
       "9503      1\n",
       "9500      1\n",
       "9498      1\n",
       "9041      1\n",
       "Name: count, Length: 13267, dtype: int64"
      ]
     },
     "execution_count": 8,
     "metadata": {},
     "output_type": "execute_result"
    }
   ],
   "source": [
    "value_counts = data['a.id'].value_counts()\n",
    "value_counts"
   ]
  },
  {
   "cell_type": "code",
   "execution_count": 9,
   "metadata": {},
   "outputs": [
    {
     "data": {
      "text/plain": [
       "a.nationality\n",
       "DE    15204\n",
       "FR     9734\n",
       "GB     7559\n",
       "NL     6645\n",
       "\\N     4783\n",
       "IT     4027\n",
       "HU     3468\n",
       "AT     3443\n",
       "BE     3369\n",
       "RU     3108\n",
       "CZ     2235\n",
       "US     2145\n",
       "CH     1417\n",
       "SE      975\n",
       "PL      881\n",
       "ES      665\n",
       "NO      600\n",
       "DK      476\n",
       "UA      252\n",
       "AU      212\n",
       "IE      174\n",
       "BG       84\n",
       "RO       75\n",
       "CA       56\n",
       "HR       54\n",
       "JP       46\n",
       "FI       43\n",
       "SK       42\n",
       "LV       33\n",
       "GE       30\n",
       "AM       23\n",
       "SI       23\n",
       "AR       21\n",
       "MX       21\n",
       "GR       19\n",
       "NZ       19\n",
       "LT       15\n",
       "EE       14\n",
       "RS       14\n",
       "PT       10\n",
       "DO        9\n",
       "ZA        9\n",
       "BY        8\n",
       "TR        7\n",
       "IL        5\n",
       "PE        4\n",
       "CL        4\n",
       "LU        4\n",
       "IN        4\n",
       "VE        3\n",
       "UY        2\n",
       "BA        2\n",
       "GT        1\n",
       "SV        1\n",
       "ME        1\n",
       "Name: count, dtype: int64"
      ]
     },
     "execution_count": 9,
     "metadata": {},
     "output_type": "execute_result"
    }
   ],
   "source": [
    "value_counts = data['a.nationality'].value_counts()\n",
    "value_counts"
   ]
  },
  {
   "cell_type": "code",
   "execution_count": 10,
   "metadata": {},
   "outputs": [
    {
     "name": "stdout",
     "output_type": "stream",
     "text": [
      "a.id\n",
      "225      101\n",
      "517       97\n",
      "65        92\n",
      "461       78\n",
      "581       75\n",
      "        ... \n",
      "2795       1\n",
      "11284      1\n",
      "3263       1\n",
      "2887       1\n",
      "2709       1\n",
      "Name: count, Length: 2006, dtype: int64\n"
     ]
    }
   ],
   "source": [
    "value_counts = data[data['a.nationality'] == 'DE']['a.id'].value_counts()\n",
    "print(value_counts)"
   ]
  },
  {
   "cell_type": "code",
   "execution_count": 11,
   "metadata": {},
   "outputs": [
    {
     "name": "stdout",
     "output_type": "stream",
     "text": [
      "e.country\n",
      "DE    12436\n",
      "AT      690\n",
      "IT      594\n",
      "GB      368\n",
      "NL      272\n",
      "US      209\n",
      "HU      205\n",
      "CZ      123\n",
      "FR      122\n",
      "CH       84\n",
      "BE       56\n",
      "RU       21\n",
      "JP       13\n",
      "UA        8\n",
      "LV        3\n",
      "Name: count, dtype: int64\n"
     ]
    }
   ],
   "source": [
    "value_counts = data[data['a.nationality'] == 'DE']['e.country'].value_counts()\n",
    "print(value_counts)"
   ]
  },
  {
   "cell_type": "markdown",
   "metadata": {},
   "source": [
    "-> German artists mainly display in Germany"
   ]
  },
  {
   "cell_type": "code",
   "execution_count": 12,
   "metadata": {},
   "outputs": [
    {
     "name": "stdout",
     "output_type": "stream",
     "text": [
      "e.city\n",
      "Vienna    4771\n",
      "Name: count, dtype: int64\n"
     ]
    }
   ],
   "source": [
    "value_counts = data[data['e.country'] == 'AT']['e.city'].value_counts()\n",
    "print(value_counts)"
   ]
  },
  {
   "cell_type": "markdown",
   "metadata": {},
   "source": [
    "-> Vienna is the only displaying city in Austria"
   ]
  },
  {
   "cell_type": "code",
   "execution_count": 13,
   "metadata": {},
   "outputs": [
    {
     "name": "stdout",
     "output_type": "stream",
     "text": [
      "e.city\n",
      "Munich                      8479\n",
      "Berlin                      6143\n",
      "Cologne                     1329\n",
      "Dusseldorf                   963\n",
      "Bremen                       811\n",
      "Leipzig                      649\n",
      "-                            646\n",
      "Mannheim                     490\n",
      "Stuttgart                    202\n",
      "Darmstadt                    193\n",
      "Dresden                      181\n",
      "Weimar                       157\n",
      "Hamburg                       95\n",
      "Essen                         90\n",
      "Frankfurt am Main             86\n",
      "Brandenburg an der Havel       9\n",
      "Bielefeld                      1\n",
      "Jena                           1\n",
      "Chemnitz                       1\n",
      "Krefeld                        1\n",
      "Magdeburg                      1\n",
      "Hagen                          1\n",
      "Name: count, dtype: int64\n"
     ]
    }
   ],
   "source": [
    "value_counts = data[data['e.country'] == 'DE']['e.city'].value_counts()\n",
    "print(value_counts)"
   ]
  },
  {
   "cell_type": "code",
   "execution_count": 14,
   "metadata": {},
   "outputs": [
    {
     "name": "stdout",
     "output_type": "stream",
     "text": [
      "e.city\n",
      "London       8136\n",
      "Brighton      245\n",
      "\\N            245\n",
      "Liverpool      50\n",
      "Glasgow        21\n",
      "Name: count, dtype: int64\n"
     ]
    }
   ],
   "source": [
    "value_counts = data[data['e.country'] == 'GB']['e.city'].value_counts()\n",
    "print(value_counts)"
   ]
  },
  {
   "cell_type": "code",
   "execution_count": 15,
   "metadata": {},
   "outputs": [
    {
     "name": "stdout",
     "output_type": "stream",
     "text": [
      "e.city\n",
      "Pittsburgh       1472\n",
      "New York          949\n",
      "Chicago           183\n",
      "Boston             59\n",
      "Cincinnati         21\n",
      "Dresden             2\n",
      "San Francisco       1\n",
      "Name: count, dtype: int64\n"
     ]
    }
   ],
   "source": [
    "value_counts = data[data['e.country'] == 'US']['e.city'].value_counts()\n",
    "print(value_counts)"
   ]
  },
  {
   "cell_type": "code",
   "execution_count": 16,
   "metadata": {},
   "outputs": [
    {
     "data": {
      "text/plain": [
       "array([  4,   6,   5,   3,   1,  13,  12,   9,   2,  18,   7,  62,  73,\n",
       "        10,  14,  53,  90,   8,  20,  19,  24,  11,  40,  25,  36,  84,\n",
       "        26, 114,  23,  17,  28,  81,  15,  47,  56,  16,  33,  50,  42,\n",
       "        48,  29,  22,  55,  41,  30,  34,  21,  60,  27,  59, 262,  69,\n",
       "        68,  79,  61, 227,  38,  32,  85,  71,  65,  37,  35,  39,  44,\n",
       "        49,  52,  57,  54, 150, 257, 760,  64, 112,  58,  72,  46, 124,\n",
       "        66,  45,  31,  83, 127,  97,  74,  91,  75, 136, 151,  67,  76,\n",
       "        43,  92, 110, 192, 282, 222, 129, 108, 219,  95,  80, 178, 200,\n",
       "       431, 100, 125,  98,  51,  70, 193, 132, 145, 120, 174, 239,  82,\n",
       "       376, 385, 121, 101, 142, 203, 166,  96,  89, 146, 165, 148,  63,\n",
       "       111,  99, 141, 214, 184, 302, 134, 252,  86, 152, 123, 226,  87,\n",
       "       119, 201, 477, 126, 215, 149, 128, 144, 143,  77, 109, 104, 210,\n",
       "        94,  88])"
      ]
     },
     "execution_count": 16,
     "metadata": {},
     "output_type": "execute_result"
    }
   ],
   "source": [
    "unique_values = data['e.paintings'].unique()\n",
    "unique_values"
   ]
  },
  {
   "cell_type": "markdown",
   "metadata": {},
   "source": [
    "My Idea: Display on a map of Germany all cities who host exhibitions. User can zoom to cities and can view top 5 displayed artists and countries they're from"
   ]
  },
  {
   "cell_type": "code",
   "execution_count": null,
   "metadata": {},
   "outputs": [],
   "source": []
  }
 ],
 "metadata": {
  "kernelspec": {
   "display_name": "Python 3",
   "language": "python",
   "name": "python3"
  },
  "language_info": {
   "codemirror_mode": {
    "name": "ipython",
    "version": 3
   },
   "file_extension": ".py",
   "mimetype": "text/x-python",
   "name": "python",
   "nbconvert_exporter": "python",
   "pygments_lexer": "ipython3",
   "version": "3.8.3"
  }
 },
 "nbformat": 4,
 "nbformat_minor": 4
}
